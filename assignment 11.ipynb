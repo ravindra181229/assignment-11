{
 "cells": [
  {
   "cell_type": "code",
   "execution_count": 2,
   "id": "714ee2df",
   "metadata": {},
   "outputs": [
    {
     "data": {
      "text/plain": [
       "\"assert(spam < 0, 'The spam variable is negative integer.')\""
      ]
     },
     "execution_count": 2,
     "metadata": {},
     "output_type": "execute_result"
    }
   ],
   "source": [
    "#Q1\n",
    "'''assert(spam < 0, 'The spam variable is negative integer.')'''"
   ]
  },
  {
   "cell_type": "code",
   "execution_count": 22,
   "id": "ebde0295",
   "metadata": {},
   "outputs": [
    {
     "data": {
      "text/plain": [
       "\"assert(eggs.lower() != bacon.lower(), 'The eggs and bacon variables are the same!')\""
      ]
     },
     "execution_count": 22,
     "metadata": {},
     "output_type": "execute_result"
    }
   ],
   "source": [
    "#Q2\n",
    "'''assert(eggs.lower() != bacon.lower(), 'The eggs and bacon variables are the same!')'''"
   ]
  },
  {
   "cell_type": "code",
   "execution_count": 31,
   "id": "2cac05e5",
   "metadata": {},
   "outputs": [
    {
     "data": {
      "text/plain": [
       "' assert(False)'"
      ]
     },
     "execution_count": 31,
     "metadata": {},
     "output_type": "execute_result"
    }
   ],
   "source": [
    "#Q3\n",
    "''' assert(False)'''"
   ]
  },
  {
   "cell_type": "code",
   "execution_count": 12,
   "id": "8705aa76",
   "metadata": {},
   "outputs": [],
   "source": [
    "#Q4\n",
    "import logging \n",
    "logging.basicConfig(level=logging.DEBUG,format = '%(asctime)s %(message)s %(asctime)')"
   ]
  },
  {
   "cell_type": "code",
   "execution_count": 13,
   "id": "c82e5a69",
   "metadata": {},
   "outputs": [],
   "source": [
    "#Q5\n",
    "logging.basicConfig(filename=\"whylog.txt\",level=lg.DEBUG,format = '%(asctime)s %(message)s %(asctime)')"
   ]
  },
  {
   "cell_type": "code",
   "execution_count": 23,
   "id": "4628eff7",
   "metadata": {},
   "outputs": [
    {
     "data": {
      "text/plain": [
       "'INFO\\nDEBUG\\nERROR\\nCRITICAL \\nWARNING'"
      ]
     },
     "execution_count": 23,
     "metadata": {},
     "output_type": "execute_result"
    }
   ],
   "source": [
    "#Q6\n",
    "'''INFO\n",
    "DEBUG\n",
    "ERROR\n",
    "CRITICAL \n",
    "WARNING'''"
   ]
  },
  {
   "cell_type": "code",
   "execution_count": 19,
   "id": "026a483d",
   "metadata": {},
   "outputs": [],
   "source": [
    "#Q7\n",
    "logging.disable(logging.CRITICAL)"
   ]
  },
  {
   "cell_type": "code",
   "execution_count": 30,
   "id": "4642c26c",
   "metadata": {},
   "outputs": [
    {
     "data": {
      "text/plain": [
       "' You can disable messages without deleting the logging function calls. \\nYou can create logging messages.\\nLogging messages provides a time'"
      ]
     },
     "execution_count": 30,
     "metadata": {},
     "output_type": "execute_result"
    }
   ],
   "source": [
    "#8\n",
    "''' You can disable messages without deleting the logging function calls. \n",
    "You can create logging messages.\n",
    "Logging messages provides a time'''"
   ]
  },
  {
   "cell_type": "code",
   "execution_count": 27,
   "id": "704b31d4",
   "metadata": {},
   "outputs": [
    {
     "data": {
      "text/plain": [
       "'The Step in button will move the debugger into a function call. \\nThe step Over button executes the function call without stepping into it. \\nThe step Out button executes the rest of the code until it steps out of the function'"
      ]
     },
     "execution_count": 27,
     "metadata": {},
     "output_type": "execute_result"
    }
   ],
   "source": [
    "#Q9\n",
    "'''The Step in button will move the debugger into a function call. \n",
    "The step Over button executes the function call without stepping into it. \n",
    "The step Out button executes the rest of the code until it steps out of the function'''"
   ]
  },
  {
   "cell_type": "code",
   "execution_count": 28,
   "id": "5ee18e30",
   "metadata": {},
   "outputs": [
    {
     "data": {
      "text/plain": [
       "'the debugger will stop when reaches the end of the program or a line with a breakpoint.'"
      ]
     },
     "execution_count": 28,
     "metadata": {},
     "output_type": "execute_result"
    }
   ],
   "source": [
    "#10\n",
    "'''the debugger will stop when reaches the end of the program or a line with a breakpoint.'''"
   ]
  },
  {
   "cell_type": "code",
   "execution_count": 29,
   "id": "4ca3dc4c",
   "metadata": {},
   "outputs": [
    {
     "data": {
      "text/plain": [
       "'breakpoint is a setting on a line of code that causes the debugger to pause when the program execution reaches the line'"
      ]
     },
     "execution_count": 29,
     "metadata": {},
     "output_type": "execute_result"
    }
   ],
   "source": [
    "#Q11\n",
    "'''breakpoint is a setting on a line of code that causes the debugger to pause when the program execution reaches the line'''"
   ]
  },
  {
   "cell_type": "code",
   "execution_count": null,
   "id": "a7c3c6aa",
   "metadata": {},
   "outputs": [],
   "source": []
  }
 ],
 "metadata": {
  "kernelspec": {
   "display_name": "Python 3",
   "language": "python",
   "name": "python3"
  },
  "language_info": {
   "codemirror_mode": {
    "name": "ipython",
    "version": 3
   },
   "file_extension": ".py",
   "mimetype": "text/x-python",
   "name": "python",
   "nbconvert_exporter": "python",
   "pygments_lexer": "ipython3",
   "version": "3.8.8"
  }
 },
 "nbformat": 4,
 "nbformat_minor": 5
}
